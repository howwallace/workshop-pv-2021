{
 "metadata": {
  "language_info": {
   "codemirror_mode": {
    "name": "ipython",
    "version": 3
   },
   "file_extension": ".py",
   "mimetype": "text/x-python",
   "name": "python",
   "nbconvert_exporter": "python",
   "pygments_lexer": "ipython3",
   "version": 3
  },
  "orig_nbformat": 2
 },
 "nbformat": 4,
 "nbformat_minor": 2,
 "cells": [
  {
   "cell_type": "markdown",
   "metadata": {},
   "source": [
    "# CONDITIONS\n",
    "\n",
    "Modified from https://www.learnpython.org/"
   ]
  },
  {
   "cell_type": "markdown",
   "metadata": {},
   "source": [
    "Python uses \"boolean logic\" to evaluate conditional statements. The boolean\n",
    "values True and False are returned when an expression is compared or evaluated.\n",
    "For example:"
   ]
  },
  {
   "cell_type": "code",
   "execution_count": null,
   "metadata": {},
   "outputs": [],
   "source": [
    "x = 2\n",
    "print(x == 2)  # prints True\n",
    "print(x == 3)  # prints False\n",
    "print(x < 3)  # prints True"
   ]
  },
  {
   "cell_type": "markdown",
   "metadata": {},
   "source": [
    "Notice that variable assignment is done using a single equals operator `=`,\n",
    "whereas comparison between two variables is done using the double equals\n",
    "operator `==`.  The \"not equals\" operator is written `!=`."
   ]
  },
  {
   "cell_type": "markdown",
   "metadata": {},
   "source": [
    "## Boolean operators\n",
    "\n",
    "The `and` and `or` boolean operators allow building complex boolean expressions,\n",
    "for example:"
   ]
  },
  {
   "cell_type": "code",
   "execution_count": null,
   "metadata": {},
   "outputs": [],
   "source": [
    "name = \"Valentine\"\n",
    "age = 23\n",
    "if name == \"Valentine\" and age == 23:\n",
    "    print(\"Your name is Valentine, and you are also 23 years old.\")\n",
    "if name == \"Valentine\" or name == \"Valentin\":\n",
    "    print(\"Your name is either Valentine or Valentin.\")"
   ]
  },
  {
   "cell_type": "markdown",
   "metadata": {},
   "source": [
    "## The `in` operator\n",
    "\n",
    "The `in` operator could be used to check if a specified object exists within an\n",
    "iterable object container, such as a list:"
   ]
  },
  {
   "cell_type": "code",
   "execution_count": null,
   "metadata": {},
   "outputs": [],
   "source": [
    "name = \"Valentine\"\n",
    "if name in [\"Valentine\", \"Valentin\"]:\n",
    "    print(\"Your name is either Valentine or Valentin.\")"
   ]
  },
  {
   "cell_type": "markdown",
   "metadata": {},
   "source": [
    "Python uses indentation to define code blocks (cf. Introduction).\n",
    "The standard Python indentation is 4 spaces, although tabs and any other space\n",
    "size will work, as long as it is consistent. Notice that code blocks do not need\n",
    "any termination.\n",
    "\n",
    "Here is an example for using Python's `if` statement using code blocks:"
   ]
  },
  {
   "cell_type": "code",
   "execution_count": null,
   "metadata": {},
   "outputs": [],
   "source": [
    "statement = False\n",
    "another_statement = True\n",
    "if statement is True:\n",
    "    # do something\n",
    "    pass\n",
    "elif another_statement is True: # else if\n",
    "    # do something else\n",
    "    pass\n",
    "else:\n",
    "    # do another thing\n",
    "    pass"
   ]
  },
  {
   "cell_type": "markdown",
   "metadata": {},
   "source": [
    "A (slightly) less abstract example:"
   ]
  },
  {
   "cell_type": "code",
   "execution_count": null,
   "metadata": {},
   "outputs": [],
   "source": [
    "x = 2\n",
    "if x == 2:\n",
    "    print(\"x equals two!\")\n",
    "else:\n",
    "    print(\"x does not equal to two.\")"
   ]
  },
  {
   "cell_type": "markdown",
   "metadata": {},
   "source": [
    "A statement is evaulated as true if one of the following is correct: 1. The\n",
    "\"True\" boolean variable is given, or calculated using an expression, such as an\n",
    "arithmetic comparison. 2. An object which is not considered \"empty\" is passed.\n",
    "\n",
    "Here are some examples for objects which are considered as empty: 1. An empty\n",
    "string: \"\" 2. An empty list: [] 3. The number zero: 0 4. The false boolean\n",
    "variable: False"
   ]
  },
  {
   "cell_type": "markdown",
   "metadata": {},
   "source": [
    "## The `is` operator\n",
    "\n",
    "Unlike the double equals operator `==`, the `is` operator does not match the\n",
    "values of the variables, but the instances themselves.  For example:"
   ]
  },
  {
   "cell_type": "code",
   "execution_count": null,
   "metadata": {},
   "outputs": [],
   "source": [
    "x = [1,2,3]\n",
    "y = [1,2,3]\n",
    "\n",
    "print(x == y)  # prints True\n",
    "print(x is y)  # prints False\n",
    "print(x is x)  # prints True"
   ]
  },
  {
   "cell_type": "markdown",
   "metadata": {},
   "source": [
    "## The `not` operator\n",
    "\n",
    "Using `not` before a boolean expression gives the opposite value:"
   ]
  },
  {
   "cell_type": "code",
   "execution_count": null,
   "metadata": {},
   "outputs": [],
   "source": [
    "print(not False)  # prints True\n",
    "print((not False) == (False))  # prints False"
   ]
  },
  {
   "cell_type": "markdown",
   "metadata": {},
   "source": [
    "## Exercise\n",
    "\n",
    "Change the variables in the first section, so that each if statement resolves as `True`."
   ]
  },
  {
   "cell_type": "code",
   "execution_count": null,
   "metadata": {},
   "outputs": [],
   "source": [
    "number = 10\n",
    "second_number = 10\n",
    "first_array = []\n",
    "second_array = [1,2,3]\n",
    "\n",
    "# Leave this part alone\n",
    "if number > 15:\n",
    "    print(\"1\")\n",
    "if first_array:\n",
    "    print(\"2\")\n",
    "if len(second_array) == 2:\n",
    "    print(\"3\")\n",
    "if len(first_array) + len(second_array) == 5:\n",
    "    print(\"4\")\n",
    "if first_array and first_array[0] == 1:\n",
    "    print(\"5\")\n",
    "if not second_number:\n",
    "    print(\"6\")"
   ]
  }
 ]
}