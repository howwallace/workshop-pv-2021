{
 "metadata": {
  "language_info": {
   "codemirror_mode": {
    "name": "ipython",
    "version": 3
   },
   "file_extension": ".py",
   "mimetype": "text/x-python",
   "name": "python",
   "nbconvert_exporter": "python",
   "pygments_lexer": "ipython3",
   "version": 3
  },
  "orig_nbformat": 2
 },
 "nbformat": 4,
 "nbformat_minor": 2,
 "cells": [
  {
   "cell_type": "markdown",
   "metadata": {},
   "source": [
    "# FUNCTIONS\n",
    "\n",
    "Modified from https://www.learnpython.org/"
   ]
  },
  {
   "cell_type": "markdown",
   "metadata": {},
   "source": [
    "Functions are a convenient way to divide your code into useful blocks, allowing\n",
    "us to order our code, make it more readable, reuse it and save some time. Also\n",
    "functions are a key way to define interfaces so programmers can share their\n",
    "code.\n",
    "\n",
    "Functions in Python are defined in code blocks, but they use the block keyword\n",
    "`def` (rather than, e.g., `for`, `if`), followed with the function's name as the\n",
    "block's name.  For example:"
   ]
  },
  {
   "cell_type": "code",
   "execution_count": null,
   "metadata": {},
   "outputs": [],
   "source": [
    "def my_function():\n",
    "    print(\"Hello From My Function!\")"
   ]
  },
  {
   "cell_type": "markdown",
   "metadata": {},
   "source": [
    "Functions may also receive arguments (variables passed from the caller to the\n",
    "function).  For example:"
   ]
  },
  {
   "cell_type": "code",
   "execution_count": null,
   "metadata": {},
   "outputs": [],
   "source": [
    "def my_function_with_args(username, greeting):\n",
    "    print(\"Hello, %s , From My Function!, I wish you %s\"%(username, greeting))"
   ]
  },
  {
   "cell_type": "markdown",
   "metadata": {},
   "source": [
    "Functions may return a value to the caller, using the keyword `return`.  For\n",
    "example:"
   ]
  },
  {
   "cell_type": "code",
   "execution_count": null,
   "metadata": {},
   "outputs": [],
   "source": [
    "def sum_two_numbers(a, b):\n",
    "    return a + b"
   ]
  },
  {
   "cell_type": "markdown",
   "metadata": {},
   "source": [
    "## Executing ('calling') functions\n",
    "\n",
    "Simply write the function's name followed by `()`, placing any required arguments\n",
    "within the brackets.  For example, let's call the functions written above (in the\n",
    "previous example):"
   ]
  },
  {
   "cell_type": "code",
   "execution_count": null,
   "metadata": {},
   "outputs": [],
   "source": [
    "my_function()"
   ]
  },
  {
   "cell_type": "code",
   "execution_count": null,
   "metadata": {},
   "outputs": [],
   "source": [
    "my_function_with_args(\"John Doe\", \"a great year!\")"
   ]
  },
  {
   "cell_type": "code",
   "execution_count": null,
   "metadata": {},
   "outputs": [],
   "source": [
    "x = sum_two_numbers(1,2)\n",
    "print(x)"
   ]
  },
  {
   "cell_type": "markdown",
   "metadata": {},
   "source": [
    "## Exercise\n",
    "\n",
    "In this exercise you'll use an existing function, and while adding your own to\n",
    "create a fully functional program.\n",
    "\n",
    "Add a function named `list_benefits()` that returns the following list of strings:\n",
    "\"More organized code\", \"More readable code\", \"Easier code reuse\", \"Allowing\n",
    "programmers to share and connect code together\"\n",
    "\n",
    "Add a function named build_sentence(info) which receives a single argument\n",
    "containing a string and returns a sentence starting with the given string and\n",
    "ending with the string \" is a benefit of functions!\"\n",
    "\n",
    "Run and see all the functions work together!"
   ]
  },
  {
   "cell_type": "code",
   "execution_count": null,
   "metadata": {},
   "outputs": [],
   "source": [
    "# Modify this function to return a list of strings as defined above\n",
    "def list_benefits():\n",
    "    pass\n",
    "\n",
    "# Modify this function to concatenate to each benefit - \" is a benefit of functions!\"\n",
    "def build_sentence(benefit):\n",
    "    pass\n",
    "\n",
    "def name_the_benefits_of_functions():\n",
    "    list_of_benefits = list_benefits()\n",
    "    for benefit in list_of_benefits:\n",
    "        print(build_sentence(benefit))\n",
    "\n",
    "name_the_benefits_of_functions()"
   ]
  }
 ]
}