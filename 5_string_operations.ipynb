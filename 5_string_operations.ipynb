{
 "metadata": {
  "language_info": {
   "codemirror_mode": {
    "name": "ipython",
    "version": 3
   },
   "file_extension": ".py",
   "mimetype": "text/x-python",
   "name": "python",
   "nbconvert_exporter": "python",
   "pygments_lexer": "ipython3",
   "version": "3.9.5-final"
  },
  "orig_nbformat": 2,
  "kernelspec": {
   "name": "python39564bit16b8ef4f61db41e5a25072bf0c095f24",
   "display_name": "Python 3.9.5 64-bit"
  }
 },
 "nbformat": 4,
 "nbformat_minor": 2,
 "cells": [
  {
   "cell_type": "markdown",
   "metadata": {},
   "source": [
    "# BASIC STRING OPERATIONS\n",
    "\n",
    "Modified from https://www.learnpython.org/"
   ]
  },
  {
   "cell_type": "markdown",
   "metadata": {},
   "source": [
    "Strings are bits of text.  They can be defined as anything between quotes:\n",
    "\n",
    "### BE SURE TO RUN THE CHUNK OF CODE BELOW:"
   ]
  },
  {
   "cell_type": "code",
   "execution_count": null,
   "metadata": {},
   "outputs": [],
   "source": [
    "astring = \"Hello world!\"\n",
    "astring2 = 'Hello world!'"
   ]
  },
  {
   "cell_type": "markdown",
   "metadata": {},
   "source": [
    "As you can see, the first thing you learned was printing a simple sentence.  This sentence was stored by Python as a string.  However, instead of immediately\n",
    "printing strings out, we will explore the various things you can do to them.\n",
    "\n",
    "Suppose you can't be bothered to do arithmetic yourself, but still desparately\n",
    "need to know the number of letters in your name.  The `len` function (which\n",
    "takes a string as an argument) can do exactly this.  For example, the number of\n",
    "letters (more specifically, characters, which includes punctuation and spaces)\n",
    "in \"Hello world!\" (`astring`, above) can be calculated using:"
   ]
  },
  {
   "cell_type": "code",
   "execution_count": null,
   "metadata": {},
   "outputs": [],
   "source": [
    "len(astring)"
   ]
  },
  {
   "cell_type": "markdown",
   "metadata": {},
   "source": [
    "### PRINT THE VALUE RETURNED BY `len` TO SEE THE RESULT:"
   ]
  },
  {
   "cell_type": "code",
   "execution_count": null,
   "metadata": {},
   "outputs": [],
   "source": [
    "# PRINT `len` HERE"
   ]
  },
  {
   "cell_type": "markdown",
   "metadata": {},
   "source": [
    "### HAVE PYTHON COUNT THE NUMBER OF LETTERS IN YOUR FIRST NAME:"
   ]
  },
  {
   "cell_type": "code",
   "execution_count": 1,
   "metadata": {},
   "outputs": [
    {
     "output_type": "stream",
     "name": "stdout",
     "text": [
      "é\n"
     ]
    }
   ],
   "source": [
    "my_name = ''  # set the value of `my_name` to your first name\n",
    "\n",
    "# YOUR CODE HERE"
   ]
  },
  {
   "cell_type": "markdown",
   "metadata": {},
   "source": [
    "We may also want to know where in a string a character (e.g., a letter) of\n",
    "interest appears.  This \"where\" is called the \"index\" of the character in the\n",
    "string (just like the index of an element in a list).  Python will tell you the earliest\n",
    "index of the letter you pass as an argument.  For example:"
   ]
  },
  {
   "cell_type": "code",
   "execution_count": null,
   "metadata": {},
   "outputs": [],
   "source": [
    "print(astring.index('o'))"
   ]
  },
  {
   "cell_type": "markdown",
   "metadata": {},
   "source": [
    "That prints out 4, because the location of the first occurrence of the letter\n",
    "\"o\" is 4 characters away from the first character.  Notice how there are\n",
    "actually two \"o\"s in the phrase--this method only recognizes the first.\n",
    "\n",
    "But why didn't it print out 5?  Isn't \"o\" the fifth character in the string?  To\n",
    "make things more simple,  Python (and most other programming languages) start\n",
    "things at 0 instead of 1. So the index of \"o\" is 4."
   ]
  },
  {
   "cell_type": "markdown",
   "metadata": {},
   "source": [
    "### WHAT HAPPENS WHEN YOU ASK PYTHON FOR THE INDEX OF A LETTER THAT ISN'T IN THE STRING (e.g., \"x\")?  WHY?"
   ]
  },
  {
   "cell_type": "code",
   "execution_count": null,
   "metadata": {},
   "outputs": [],
   "source": [
    "# TRY IT OUT HERE"
   ]
  },
  {
   "cell_type": "markdown",
   "metadata": {},
   "source": [
    "You can count the number of a given letter in a string using `count()`.  The code below counts the number of \"l\"s in the string. Therefore, it should print 3."
   ]
  },
  {
   "cell_type": "code",
   "execution_count": null,
   "metadata": {},
   "outputs": [],
   "source": [
    "print(astring.count(\"l\"))"
   ]
  },
  {
   "cell_type": "markdown",
   "metadata": {},
   "source": [
    "The code below prints a slice of the string, starting at index 3, and ending at index 6 (**NOT 7!**).\n",
    "But why 6 and not 7? Again, most programming languages do this--it makes doing\n",
    "math inside those brackets easier."
   ]
  },
  {
   "cell_type": "code",
   "execution_count": null,
   "metadata": {},
   "outputs": [],
   "source": [
    "print(astring[3:7])"
   ]
  },
  {
   "cell_type": "markdown",
   "metadata": {},
   "source": [
    "If you just have one number in the brackets, it will give you the single\n",
    "character at that index. If you leave out the first number but keep the colon,\n",
    "it will give you a slice from the start to the number you left in. If you leave\n",
    "out the second number, it will give you a slice from the first number to the\n",
    "end.\n",
    "\n",
    "You can even put negative numbers inside the brackets. They are an easy way of\n",
    "starting at the end of the string instead of the beginning. This way, -3 means\n",
    "\"3rd character from the end\"."
   ]
  },
  {
   "cell_type": "code",
   "execution_count": null,
   "metadata": {},
   "outputs": [],
   "source": [
    "# YOUR CODE HERE"
   ]
  },
  {
   "cell_type": "markdown",
   "metadata": {},
   "source": [
    "You can also slice through a string, skipping characters.  The code below prints the characters of string from 3 to 7 skipping one character.  This is called\n",
    "\"extended slice syntax\".  The general form is \\[start:stop:step]."
   ]
  },
  {
   "cell_type": "code",
   "execution_count": null,
   "metadata": {},
   "outputs": [],
   "source": [
    "print(astring[3:7:2])"
   ]
  },
  {
   "cell_type": "markdown",
   "metadata": {},
   "source": [
    "Note that the extended slice syntax where step=1 gives the same output as the simple slice syntax:"
   ]
  },
  {
   "cell_type": "code",
   "execution_count": null,
   "metadata": {},
   "outputs": [],
   "source": [
    "print(astring[3:7])"
   ]
  },
  {
   "cell_type": "code",
   "execution_count": null,
   "metadata": {},
   "outputs": [],
   "source": [
    "print(astring[3:7:1])"
   ]
  },
  {
   "cell_type": "markdown",
   "metadata": {},
   "source": [
    "There is no function like strrev in C to reverse a string. But with the above\n",
    "mentioned type of slice syntax you can easily reverse a string like this:"
   ]
  },
  {
   "cell_type": "code",
   "execution_count": null,
   "metadata": {},
   "outputs": [],
   "source": [
    "print(astring[::-1])"
   ]
  },
  {
   "cell_type": "markdown",
   "metadata": {},
   "source": [
    "You can change with all letters converted to uppercase and lowercase, respectively."
   ]
  },
  {
   "cell_type": "code",
   "execution_count": null,
   "metadata": {},
   "outputs": [],
   "source": [
    "print(astring.upper())\n",
    "print(astring.lower())"
   ]
  },
  {
   "cell_type": "markdown",
   "metadata": {},
   "source": [
    "This is used to determine whether the string starts with something or ends with\n",
    "something, respectively. The first one will print `True`, as the string starts\n",
    "with \"Hello\". The second one will print `False`, as the string certainly does not\n",
    "end with \"asdfasdfasdf\"."
   ]
  },
  {
   "cell_type": "code",
   "execution_count": null,
   "metadata": {},
   "outputs": [],
   "source": [
    "print(astring.startswith(\"Hello\"))"
   ]
  },
  {
   "cell_type": "code",
   "execution_count": null,
   "metadata": {},
   "outputs": [],
   "source": [
    "print(astring.endswith(\"asdfasdfasdf\"))"
   ]
  },
  {
   "cell_type": "markdown",
   "metadata": {},
   "source": [
    "You can also split strings into a list of substrings, separated by a \"separator\" character.  For example, splitting the value for `astring` above at a space (\" \"), the first item in the list will be \"Hello\", and\n",
    "the second will be \"world!\":"
   ]
  },
  {
   "cell_type": "code",
   "execution_count": null,
   "metadata": {},
   "outputs": [],
   "source": [
    "afewwords = astring.split(\" \")"
   ]
  },
  {
   "cell_type": "markdown",
   "metadata": {},
   "source": [
    "### CHECK THE RESULT BY PRINTING `afewwords` BELOW:"
   ]
  },
  {
   "cell_type": "code",
   "execution_count": null,
   "metadata": {},
   "outputs": [],
   "source": [
    "# YOUR CODE HERE"
   ]
  },
  {
   "cell_type": "markdown",
   "metadata": {},
   "source": [
    "## Exercise\n",
    "\n",
    "Fix the code below to print out the correct information by changing the string, `s`:"
   ]
  },
  {
   "cell_type": "code",
   "execution_count": null,
   "metadata": {},
   "outputs": [],
   "source": [
    "s = \"Hey there! what should this string be?\"\n",
    "# Length should be 20\n",
    "print(\"Length of s = %d\" % len(s))\n",
    "\n",
    "# First occurrence of \"a\" should be at index 8\n",
    "print(\"The first occurrence of the letter a = %d\" % s.index(\"a\"))\n",
    "\n",
    "# Number of a's should be 2\n",
    "print(\"a occurs %d times\" % s.count(\"a\"))\n",
    "\n",
    "# Slicing the string into substrings\n",
    "print(\"The first five characters are '%s'\" % s[:5]) # Start to 5\n",
    "print(\"The next five characters are '%s'\" % s[5:10]) # 5 to 10\n",
    "print(\"The thirteenth character is '%s'\" % s[12]) # Just number 12\n",
    "print(\"The characters with odd index are '%s'\" %s[1::2]) #(0-based indexing)\n",
    "print(\"The last five characters are '%s'\" % s[-5:]) # 5th-from-last to end\n",
    "\n",
    "# Convert everything to uppercase\n",
    "print(\"String in uppercase: %s\" % s.upper())\n",
    "\n",
    "# Convert everything to lowercase\n",
    "print(\"String in lowercase: %s\" % s.lower())\n",
    "\n",
    "# Check how a string starts\n",
    "if s.startswith(\"Str\"):\n",
    "    print(\"String starts with 'Str'. Good!\")\n",
    "\n",
    "# Check how a string ends\n",
    "if s.endswith(\"ome!\"):\n",
    "    print(\"String ends with 'ome!'. Good!\")\n",
    "\n",
    "# Split the string into three separate strings,\n",
    "# each containing only a word\n",
    "print(\"Split the words of the string: %s\" % s.split(\" \"))"
   ]
  }
 ]
}