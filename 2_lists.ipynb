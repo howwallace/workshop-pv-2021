{
 "metadata": {
  "language_info": {
   "codemirror_mode": {
    "name": "ipython",
    "version": 3
   },
   "file_extension": ".py",
   "mimetype": "text/x-python",
   "name": "python",
   "nbconvert_exporter": "python",
   "pygments_lexer": "ipython3",
   "version": "3.9.5-final"
  },
  "orig_nbformat": 2,
  "kernelspec": {
   "name": "python39564bit16b8ef4f61db41e5a25072bf0c095f24",
   "display_name": "Python 3.9.5 64-bit"
  }
 },
 "nbformat": 4,
 "nbformat_minor": 2,
 "cells": [
  {
   "cell_type": "markdown",
   "metadata": {},
   "source": [
    "# LISTS\n",
    "\n",
    "Modified from https://www.learnpython.org/\n",
    "\n",
    "Lists are very similar to arrays.  They can contain any type of variable, and\n",
    "they can contain as many variables as you wish. Lists can also be iterated over\n",
    "in a very simple manner.  Here is an example of how to build a list:"
   ]
  },
  {
   "cell_type": "code",
   "execution_count": null,
   "metadata": {},
   "outputs": [],
   "source": [
    "mylist = []\n",
    "mylist.append(1)\n",
    "mylist.append(2)\n",
    "mylist.append(3)\n",
    "print(mylist)"
   ]
  },
  {
   "cell_type": "markdown",
   "metadata": {},
   "source": [
    "You can access individual elements of the list by \"indexing\" the list at the \"index\" (pl. \"indices\") that corresponds to the element you want:"
   ]
  },
  {
   "cell_type": "code",
   "execution_count": null,
   "metadata": {},
   "outputs": [],
   "source": [
    "print(mylist[0])"
   ]
  },
  {
   "cell_type": "markdown",
   "metadata": {},
   "source": [
    "Note that indices are zero-based in Python (but not in all languages, e.g., MATLAB).  This means that the \"first\" item in the list is at index 0, and the \"second\" item is at index 1."
   ]
  },
  {
   "cell_type": "markdown",
   "metadata": {},
   "source": [
    "Accessing an index which does not exist generates an exception (an error)."
   ]
  },
  {
   "cell_type": "code",
   "execution_count": null,
   "metadata": {},
   "outputs": [],
   "source": [
    "mylist = [1,2,3]\n",
    "print(mylist[10])"
   ]
  },
  {
   "cell_type": "markdown",
   "metadata": {},
   "source": [
    "Isolate the unique elements of a list by casting it to a set (and back to a list, if you want):"
   ]
  },
  {
   "cell_type": "code",
   "execution_count": null,
   "metadata": {},
   "outputs": [],
   "source": [
    "mylist = [1, 2, 2, 4, 4, 5]\n",
    "print(mylist)\n",
    "print(set(mylist))\n",
    "print(list(set(mylist)))"
   ]
  },
  {
   "cell_type": "markdown",
   "metadata": {},
   "source": [
    "## Exercise\n",
    "\n",
    "In this exercise, you will need to add numbers and strings to the\n",
    "correct lists using the \"append\" list method. You must add the numbers 1,2, and\n",
    "3 to the \"numbers\" list, and the words 'hello' and 'world' to the strings\n",
    "variable.\n",
    "\n",
    "You will also have to fill in the variable `second_name` with the second name in\n",
    "the names list, using the brackets operator (`[]`).  Remember that the index is\n",
    "zero-based, so if you want to access the second item in the list, its index will\n",
    "be 1."
   ]
  },
  {
   "cell_type": "code",
   "execution_count": null,
   "metadata": {},
   "outputs": [],
   "source": [
    "numbers = []\n",
    "strings = []\n",
    "names = [\"Jean\", \"Clémence\", \"Abel\"]\n",
    "\n",
    "# write your code here\n",
    "second_name = None\n",
    "\n",
    "# this code should write out the filled arrays and the second name in the names list (Eric).\n",
    "print(numbers)\n",
    "print(strings)\n",
    "print(\"The second name on the names list is %s\" % second_name)"
   ]
  }
 ]
}