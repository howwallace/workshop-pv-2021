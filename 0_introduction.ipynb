{
 "metadata": {
  "language_info": {
   "codemirror_mode": {
    "name": "ipython",
    "version": 3
   },
   "file_extension": ".py",
   "mimetype": "text/x-python",
   "name": "python",
   "nbconvert_exporter": "python",
   "pygments_lexer": "ipython3",
   "version": "3.9.5-final"
  },
  "orig_nbformat": 2,
  "kernelspec": {
   "name": "python39564bit16b8ef4f61db41e5a25072bf0c095f24",
   "display_name": "Python 3.9.5 64-bit"
  }
 },
 "nbformat": 4,
 "nbformat_minor": 2,
 "cells": [
  {
   "cell_type": "markdown",
   "metadata": {},
   "source": [
    "# INTRODUCTION\n",
    "\n",
    "Modified from https://www.learnpython.org/"
   ]
  },
  {
   "cell_type": "markdown",
   "metadata": {},
   "source": [
    "## Hello, World!\n",
    "\n",
    "Python is a programming language, and with a very friendly syntax.  The simplest\n",
    "directive in Python is the \"print\" directive--it simply prints out a line to the\n",
    "console/terminal, with a \"newline\" character (i.e., a carriage return).\n",
    "\n",
    "There are two major Python versions, Python 2 and Python 3.  Python 2 and 3 are\n",
    "quite different.  This tutorial uses Python 3, because it more semantically\n",
    "correct and supports newer features.\n",
    "\n",
    "To print \"Hello, World!\" in Python 3, just write:"
   ]
  },
  {
   "cell_type": "code",
   "execution_count": null,
   "metadata": {},
   "outputs": [],
   "source": [
    "print(\"Hello, World!\")"
   ]
  },
  {
   "cell_type": "markdown",
   "metadata": {},
   "source": [
    "[You might get an error like:\n",
    "\n",
    "`Error: Jupyter cannot be started. Error attempting to locate jupyter: Data Science libraries jupyter and notebook are not installed in interpreter Python 3.9.5 64-bit.`\n",
    "\n",
    "In this case, you need to install the Jupyter interpreter for Visual Studio Code (a prompt should appear in the bottom right, but find me if you keep getting the error).]\n",
    "\n",
    "<br><br>\n",
    "\n",
    "### DO YOUR OWN `print` COMMAND BELOW TO PRINT A MESSAGE TO THE CONSOLE:"
   ]
  },
  {
   "cell_type": "code",
   "execution_count": null,
   "metadata": {},
   "outputs": [],
   "source": [
    "# YOUR CODE HERE"
   ]
  },
  {
   "cell_type": "markdown",
   "metadata": {},
   "source": [
    "## Comments\n",
    "\n",
    "In Python, you the programmer can (and should!) write yourself notes right in\n",
    "your code; \"commenting your code\" can help you keep track of what the different\n",
    "parts of your code do.  A long comment spanning several lines is often written in a \"block comment.\"  Block comments are written between sets of three quotes (single or double; i.e., ''' or \"\"\").  Line comments are written after an octothorp/hash (#)."
   ]
  },
  {
   "cell_type": "code",
   "execution_count": null,
   "metadata": {},
   "outputs": [],
   "source": [
    "# This note is written in a line comment\n",
    "'''\n",
    "And this longer comment is written in a block\n",
    "'''\n",
    "\n",
    "'''TRY WRITING YOUR OWN COMMENT UNDER THIS ONE'''"
   ]
  },
  {
   "cell_type": "markdown",
   "metadata": {},
   "source": [
    "Comments are also useful to make chunks of code un-runnable, which is often\n",
    "useful if you want to make quick, temporary changes to your code...:"
   ]
  },
  {
   "cell_type": "code",
   "execution_count": null,
   "metadata": {},
   "outputs": [],
   "source": [
    "x = 1\n",
    "# print(x)  # uncomment (CMD-/ or CTRL-/) to check the value of x"
   ]
  },
  {
   "cell_type": "markdown",
   "metadata": {},
   "source": [
    "...or if you want to re-implement functionality in a different way without deleting your existing solution.  (Of course, when this kind of refactoring is done on a bigger scale--i.e., if it might affect multiple parts of your code--, there are better tools to keep track older, functional versions of your code; these tools are called \"version control,\" and though we won't really discuss them in this workshop, I encourage you to read up on `git`)."
   ]
  },
  {
   "cell_type": "markdown",
   "metadata": {},
   "source": [
    "## Indentation\n",
    "\n",
    "Python uses indentation to define \"code blocks\" (some other languages, like Java\n",
    "and Swift, use braces: { and }).  Both tabs and spaces are supported, but the\n",
    "standard indentation requires standard Python code to use four spaces.  For\n",
    "example:"
   ]
  },
  {
   "cell_type": "code",
   "execution_count": null,
   "metadata": {},
   "outputs": [],
   "source": [
    "x = 1           # define the value of the variable, x\n",
    "if x == 1:      # execute the block below ONLY for a certain value of x\n",
    "    # indenting tells Python that the inner chunk belongs to the `if` statement\n",
    "    print(\"x is 1.\")\n",
    "# NOT indenting tells Python that the print statement below is not part of the `if` statement\n",
    "print(\"this prints no matter what x is.\")"
   ]
  },
  {
   "cell_type": "markdown",
   "metadata": {},
   "source": [
    "## `if`, `elif`, and `else`\n",
    "\n",
    "As in the above example, you can execute chunks of code conditionally (i.e.,\n",
    "only if some condition is satisfied) using an `if` statement (cf. Indentation).\n",
    "You may also want to do something special if the condition isn't satisfied; this\n",
    "is where `else` comes in:"
   ]
  },
  {
   "cell_type": "code",
   "execution_count": null,
   "metadata": {},
   "outputs": [],
   "source": [
    "x = 1\n",
    "if x == 1:\n",
    "    print(\"x is 1.\")\n",
    "else:\n",
    "    print(\"x is not 1.\")"
   ]
  },
  {
   "cell_type": "markdown",
   "metadata": {},
   "source": [
    "Finally, `elif` is a conditional else (think `else` + `if`), which only executes\n",
    "if the preceding `if` statement (and all preceding `elif` statements under the\n",
    "same `if`, if there are any others) do NOT execute:"
   ]
  },
  {
   "cell_type": "code",
   "execution_count": null,
   "metadata": {},
   "outputs": [],
   "source": [
    "x = 1\n",
    "if x == 1:\n",
    "    print(\"x is 1.\")\n",
    "elif x == 2:\n",
    "    print(\"x is 2.\")\n",
    "elif x == 2 or x == 3:\n",
    "    print(\"x is 2 or 3.\")\n",
    "elif x == 3:\n",
    "    print(\"x is 3.\")  # never executes, since, x = 3 will make the preceding `elif` execute.\n",
    "else:\n",
    "    print(\"x is not 1, 2, or 3\")  # only executes if the initial `if` and all following `elif`s do not execute"
   ]
  }
 ]
}